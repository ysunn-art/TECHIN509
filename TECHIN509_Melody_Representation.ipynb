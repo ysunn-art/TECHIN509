{
 "cells": [
  {
   "cell_type": "markdown",
   "id": "cc4276ae",
   "metadata": {},
   "source": [
    "\n",
    "# TECHIN 509 — Melody Representation (Python Structures)\n",
    "\n",
    "This notebook answers the assignment using simple, readable Python structures, focusing on **how to represent melodies** rather than writing fancy code. Explanations are embedded with runnable examples.\n"
   ]
  },
  {
   "cell_type": "markdown",
   "id": "3c5914ac",
   "metadata": {},
   "source": [
    "\n",
    "## 1) How to store a sequence of notes like `C D E F G` in Python?\n",
    "\n",
    "### Design choices (summary)\n",
    "- **Note** = minimal musical atom. Represented by a small record with:\n",
    "  - `pitch` (e.g., `\"C\"`, `\"C#\"`, `\"D\"`),\n",
    "  - `octave` (e.g., `4` for the 4th octave),\n",
    "  - `duration` in beats (e.g., `1.0` = quarter note, `0.5` = eighth, `2.0` = half),\n",
    "  - optional `velocity` (MIDI-like loudness, default 100).\n",
    "- **Melody** = an **ordered** sequence of `Note` objects → a Python **`list`** preserves order naturally.\n",
    "- **Many melodies** (a dataset) = `List[List[Note]]` or a labeled `Dict[str, List[Note]]`.\n",
    "\n",
    "**Why this works:** Music is a time-ordered sequence. Python `list` is the simplest ordered container with great readability and good performance.\n"
   ]
  },
  {
   "cell_type": "code",
   "execution_count": null,
   "id": "a853b913",
   "metadata": {},
   "outputs": [],
   "source": [
    "\n",
    "from dataclasses import dataclass, asdict\n",
    "from typing import List, Dict, Any\n",
    "\n",
    "@dataclass\n",
    "class Note:\n",
    "    pitch: str           # e.g., \"C\", \"C#\", \"D\", ...\n",
    "    octave: int          # typical range 0-8\n",
    "    duration: float      # beats: 1.0 = quarter, 0.5 = eighth, 2.0 = half\n",
    "    velocity: int = 100  # optional performance parameter\n",
    "\n",
    "# Example melody: C D E F G (all quarter notes, octave 4)\n",
    "melody: List[Note] = [\n",
    "    Note(\"C\", 4, 1.0),\n",
    "    Note(\"D\", 4, 1.0),\n",
    "    Note(\"E\", 4, 1.0),\n",
    "    Note(\"F\", 4, 1.0),\n",
    "    Note(\"G\", 4, 1.0),\n",
    "]\n",
    "\n",
    "# Show both object view and JSON-like dicts for storage/serialization\n",
    "melody_dicts: List[Dict[str, Any]] = [asdict(n) for n in melody]\n",
    "melody, melody_dicts[:2]  # preview\n"
   ]
  },
  {
   "cell_type": "markdown",
   "id": "eeeffa8b",
   "metadata": {},
   "source": [
    "\n",
    "**Guiding questions:**  \n",
    "- If a melody is like a sentence, **what is each word?** → A **`Note`**.  \n",
    "- Which Python type **keeps items in order**? → A **`list`**.  \n",
    "- How to group several melodies? → `List[List[Note]]` or a named `Dict[str, List[Note]]`.\n"
   ]
  },
  {
   "cell_type": "markdown",
   "id": "458fba24",
   "metadata": {},
   "source": [
    "\n",
    "## 2) Preferred storage format for a collection of melodies\n",
    "\n",
    "I prefer **JSON/JSONL** for readability and ease of preprocessing. It supports nested structures naturally, can be diffed in version control, and is language-agnostic. CSV is awkward for nested lists; MIDI is compact but not ideal for early analysis/teaching.\n",
    "\n",
    "### Example JSON structure\n"
   ]
  },
  {
   "cell_type": "code",
   "execution_count": null,
   "id": "73caf871",
   "metadata": {},
   "outputs": [],
   "source": [
    "\n",
    "import json\n",
    "\n",
    "piece = {\n",
    "    \"title\": \"simple_scale\",\n",
    "    \"bpm\": 120,\n",
    "    \"key\": \"C\",\n",
    "    \"melody\": [asdict(n) for n in melody]\n",
    "}\n",
    "\n",
    "json_preview = json.dumps(piece, indent=2)\n",
    "print(json_preview.splitlines()[0])\n",
    "print(\"\\n\".join(json_preview.splitlines()[1:12]), \"...\")  # show a short preview\n"
   ]
  },
  {
   "cell_type": "markdown",
   "id": "00887f02",
   "metadata": {},
   "source": [
    "\n",
    "## 3) Flattening and combining melodies\n",
    "\n",
    "Given multiple melodies, we sometimes want **one long sequence** of notes (e.g., for training). Recommended tools:\n",
    "\n",
    "- `list.extend(...)` (mutates in-place, efficient),\n",
    "- `itertools.chain.from_iterable(...)` (memory-friendly, readable).  \n",
    "Avoid repeatedly using `+` inside loops (it creates new lists each time).\n"
   ]
  },
  {
   "cell_type": "code",
   "execution_count": null,
   "id": "ee0be018",
   "metadata": {},
   "outputs": [],
   "source": [
    "\n",
    "from itertools import chain\n",
    "from typing import Iterable\n",
    "\n",
    "Dataset = List[List[Note]]\n",
    "\n",
    "def flatten_with_chain(dataset: Dataset) -> List[Note]:\n",
    "    return list(chain.from_iterable(dataset))\n",
    "\n",
    "def flatten_with_comprehension(dataset: Dataset) -> List[Note]:\n",
    "    return [n for m in dataset for n in m]\n",
    "\n",
    "# Demo dataset\n",
    "dataset: Dataset = [\n",
    "    melody,\n",
    "    [Note(\"A\",4,0.5), Note(\"B\",4,0.5), Note(\"C\",5,2.0)],\n",
    "]\n",
    "\n",
    "flat1 = flatten_with_chain(dataset)\n",
    "flat2 = flatten_with_comprehension(dataset)\n",
    "\n",
    "len(flat1), len(flat2), flat1[:3], flat2[-3:]\n"
   ]
  },
  {
   "cell_type": "code",
   "execution_count": null,
   "id": "7fdcd9a4",
   "metadata": {},
   "outputs": [],
   "source": [
    "\n",
    "# Accumulating from an empty list (recommended: extend)\n",
    "all_notes: List[Note] = []\n",
    "for m in dataset:\n",
    "    all_notes.extend(m)\n",
    "\n",
    "len(all_notes), all_notes[:5]\n"
   ]
  },
  {
   "cell_type": "markdown",
   "id": "25876ab1",
   "metadata": {},
   "source": [
    "\n",
    "## 4) What information to extract to *teach/train* a music composer?\n",
    "\n",
    "Useful features from a set of melodies:\n",
    "- **Pitch-based**: MIDI numbers, **interval sequence** (transposition-invariant), range, histogram.\n",
    "- **Rhythm-based**: duration histogram, common rhythmic patterns (n-grams).\n",
    "- **Motivic/structural**: repeated cells and variants.\n",
    "- **Global metadata**: BPM, time signature, phrase boundaries (if available).\n",
    "\n",
    "### Minimal, runnable feature extractors\n"
   ]
  },
  {
   "cell_type": "code",
   "execution_count": null,
   "id": "519d645e",
   "metadata": {},
   "outputs": [],
   "source": [
    "\n",
    "from collections import Counter\n",
    "\n",
    "PITCH_TO_SEMITONE = {\n",
    "    \"C\":0,\"C#\":1,\"Db\":1,\"D\":2,\"D#\":3,\"Eb\":3,\"E\":4,\n",
    "    \"F\":5,\"F#\":6,\"Gb\":6,\"G\":7,\"G#\":8,\"Ab\":8,\"A\":9,\n",
    "    \"A#\":10,\"Bb\":10,\"B\":11\n",
    "}\n",
    "\n",
    "def to_midi_number(note: Note) -> int:\n",
    "    \"\"\"MIDI convention: C4 = 60.\"\"\"\n",
    "    return 12 * (note.octave + 1) + PITCH_TO_SEMITONE[note.pitch]\n",
    "\n",
    "def intervals(mel: List[Note]) -> List[int]:\n",
    "    mids = [to_midi_number(n) for n in mel]\n",
    "    return [mids[i+1] - mids[i] for i in range(len(mids)-1)]\n",
    "\n",
    "def duration_histogram(mel: List[Note]) -> Dict[float, int]:\n",
    "    return dict(Counter(n.duration for n in mel))\n",
    "\n",
    "iv = intervals(melody)                 # C-D-E-F-G -> [2, 2, 1, 2]\n",
    "dur_hist = duration_histogram(melody)  # {1.0: 5}\n",
    "\n",
    "iv, dur_hist\n"
   ]
  },
  {
   "cell_type": "markdown",
   "id": "56b6b1e3",
   "metadata": {},
   "source": [
    "\n",
    "## 5) Justification of choices (concise)\n",
    "- **Expressive & extensible**: `Note` record captures essentials (pitch, octave, duration, velocity) and can grow (articulations, ties, etc.).\n",
    "- **Order preserved**: `list` fits musical time naturally and is easy to index/slice.\n",
    "- **Composable datasets**: `List[List[Note]]` or labeled dictionaries keep the hierarchy simple.\n",
    "- **Engineering-friendly**: JSON/JSONL are human-readable and tool-friendly; conversion to/from MIDI can be added later.\n",
    "- **Efficient ops**: Use `extend`/`itertools.chain` for linear-time flattening; avoid O(n^2) concatenations.\n"
   ]
  }
 ],
 "metadata": {
  "authors": [
   {
    "name": "Generated by ChatGPT"
   }
  ],
  "created": "2025-10-27T03:15:17.459802Z",
  "kernelspec": {
   "display_name": "Python 3",
   "language": "python",
   "name": "python3"
  },
  "language_info": {
   "name": "python",
   "pygments_lexer": "ipython3"
  }
 },
 "nbformat": 4,
 "nbformat_minor": 5
}
