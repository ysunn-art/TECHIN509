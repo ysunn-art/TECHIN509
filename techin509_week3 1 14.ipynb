{
 "cells": [
  {
   "cell_type": "markdown",
   "metadata": {},
   "source": [
    "# Motivating Example: \n",
    "Now you have finished your job at Microsoft Cafe and you start your own business--a pizza shop. You would like to acknowledge and give back to your customers for their support:\n",
    "- Customers spent more than \\$100 earn a free pizza\n",
    "- Customers spend more than \\$20 and less than\n",
    "-  \\$100 earn a free soft drink\n",
    "- Customers spend less than \\$20 earn a coupon\n",
    "\n",
    "If you only have a few customers - say \"Microsoft\" and \"Meta\". This is doable using f-string as follows.\n"
   ]
  },
  {
   "cell_type": "code",
   "execution_count": 1,
   "metadata": {},
   "outputs": [
    {
     "name": "stdout",
     "output_type": "stream",
     "text": [
      "Dear Microsoft,\n",
      "I appreciate your support to my pizza shop.... \n"
     ]
    }
   ],
   "source": [
    "customer = \"Microsoft\"\n",
    "message = f\"\"\"Dear {customer},\n",
    "I appreciate your support to my pizza shop.... \"\"\"\n",
    "print(message)"
   ]
  },
  {
   "cell_type": "markdown",
   "metadata": {},
   "source": [
    "### What if you have millions of customers?\n"
   ]
  },
  {
   "cell_type": "markdown",
   "metadata": {},
   "source": [
    "# Learning Objectives:\n",
    "- Familiarize with methods and indexing of list\n",
    "- Familiarize with dictionary\n",
    "- Understand Boolean variables\n",
    "- Understand control flow and iterables"
   ]
  },
  {
   "cell_type": "markdown",
   "metadata": {
    "id": "1118dc09-864c-4397-9c29-40222703cecd"
   },
   "source": [
    "# List\n",
    "A list is a versatile and widely used data structure in Python. It is an ordered collection of elements enclosed within square brackets [ ]. Lists can store multiple items of different data types, including numbers, strings, and even other lists. Lists are mutable, meaning you can change their contents by adding, removing, or modifying elements."
   ]
  },
  {
   "cell_type": "markdown",
   "metadata": {
    "id": "7ex3dZEr3Hsv"
   },
   "source": [
    "## Creating Lists\n",
    "\n",
    "You can create a list by placing a comma-separated sequence of elements within square brackets. Here's how to create a simple list:"
   ]
  },
  {
   "cell_type": "code",
   "execution_count": null,
   "metadata": {
    "executionInfo": {
     "elapsed": 3,
     "status": "ok",
     "timestamp": 1696141673016,
     "user": {
      "displayName": "Ian Chen",
      "userId": "13743494164923451218"
     },
     "user_tz": 420
    },
    "id": "e1913968-fab3-4e70-8789-efb69ca8f5f6"
   },
   "outputs": [],
   "source": [
    "my_list = [1, 2, 3, 4, 5]\n",
    "newlist = [1, '1']"
   ]
  },
  {
   "cell_type": "markdown",
   "metadata": {
    "id": "BteG6RqFohlL"
   },
   "source": [
    "## Accessing Elements\n",
    "\n",
    "You can access elements of a list using indexing. Python uses zero-based indexing, meaning the first element is at index 0, the second at index 1, and so on. You can also use negative indexing, where -1 refers to the last element, -2 to the second-to-last, and so forth."
   ]
  },
  {
   "cell_type": "code",
   "execution_count": null,
   "metadata": {
    "colab": {
     "base_uri": "https://localhost:8080/"
    },
    "executionInfo": {
     "elapsed": 177,
     "status": "ok",
     "timestamp": 1696141750751,
     "user": {
      "displayName": "Ian Chen",
      "userId": "13743494164923451218"
     },
     "user_tz": 420
    },
    "id": "3dTSkvpj7IDb",
    "outputId": "c10bc4e1-4d23-4abc-f770-aae4fcb82f3d"
   },
   "outputs": [],
   "source": [
    "first_element = my_list[0]  # Access the first element (1)\n",
    "last_element = my_list[-1]   # Access the last element (5)\n",
    "print(first_element, last_element)"
   ]
  },
  {
   "cell_type": "markdown",
   "metadata": {
    "id": "ERfMl-Kt7KZK"
   },
   "source": [
    "## List Slicing\n",
    "\n",
    "Slicing allows you to extract a portion of a list. It's done by specifying a start and end index separated by a colon :"
   ]
  },
  {
   "cell_type": "code",
   "execution_count": null,
   "metadata": {
    "colab": {
     "base_uri": "https://localhost:8080/"
    },
    "executionInfo": {
     "elapsed": 5,
     "status": "ok",
     "timestamp": 1696141737799,
     "user": {
      "displayName": "Ian Chen",
      "userId": "13743494164923451218"
     },
     "user_tz": 420
    },
    "id": "1zkFvYp_7N7b",
    "outputId": "ff4d068f-aeb2-4bb3-cb7f-2f80e9ea2eb0"
   },
   "outputs": [],
   "source": [
    "subset = my_list[1:4]  # Get elements at index 1, 2, and 3 (2, 3, 4)\n",
    "subset"
   ]
  },
  {
   "cell_type": "markdown",
   "metadata": {},
   "source": [
    "# Practice 1: List slicing\n",
    "Complete the code in the following cell. **new_list** is a list containing integers from 0 to 49. \n",
    "- Create a list named **last_ten** containing the last 10 elements of new_list. Print out last_ten.\n",
    "- Create a list named **odd_list** containing all elements with odd indices in new_list. Print out odd_list\n",
    "- Create a list named **sub_list** containing all integer multiples of 7 in new_list. Print out sub_list"
   ]
  },
  {
   "cell_type": "code",
   "execution_count": 8,
   "metadata": {},
   "outputs": [
    {
     "name": "stdout",
     "output_type": "stream",
     "text": [
      "[0, 1, 2, 3, 4, 5, 6, 7, 8, 9, 10, 11, 12, 13, 14, 15, 16, 17, 18, 19, 20, 21, 22, 23, 24, 25, 26, 27, 28, 29, 30, 31, 32, 33, 34, 35, 36, 37, 38, 39, 40, 41, 42, 43, 44, 45, 46, 47, 48, 49]\n",
      "[40, 41, 42, 43, 44, 45, 46, 47, 48, 49]\n",
      "[1, 3, 5, 7, 9, 11, 13, 15, 17, 19, 21, 23, 25, 27, 29, 31, 33, 35, 37, 39, 41, 43, 45, 47, 49]\n",
      "[49, 48, 47, 46, 45, 44, 43, 42, 41, 40, 39, 38, 37, 36, 35, 34, 33, 32, 31, 30, 29, 28, 27, 26, 25, 24, 23, 22, 21, 20, 19, 18, 17, 16, 15, 14, 13, 12, 11, 10, 9, 8, 7, 6, 5, 4, 3, 2, 1, 0]\n"
     ]
    }
   ],
   "source": [
    "# add your code\n",
    "new_list = list(range(50))\n",
    "print(new_list)\n",
    "\n",
    "last_ten = new_list[-10:];\n",
    "print(last_ten);\n",
    "print(new_list[1::2]);\n",
    "print(new_list[::-1])\n"
   ]
  },
  {
   "cell_type": "markdown",
   "metadata": {
    "id": "RoDsXYQ67Vhl"
   },
   "source": [
    "## Modifying Lists\n",
    "\n",
    "Lists are mutable, so you can change their elements by assignment."
   ]
  },
  {
   "cell_type": "code",
   "execution_count": 13,
   "metadata": {
    "colab": {
     "base_uri": "https://localhost:8080/"
    },
    "executionInfo": {
     "elapsed": 5,
     "status": "ok",
     "timestamp": 1696141777246,
     "user": {
      "displayName": "Ian Chen",
      "userId": "13743494164923451218"
     },
     "user_tz": 420
    },
    "id": "j02oB2FO7Xr8",
    "outputId": "4b065fc5-73c9-4efc-c9b4-f0290906287d"
   },
   "outputs": [],
   "source": [
    "  # Update the third element to 10\n",
    "my_list = [1,2,3,4,5,6,7,8,9,10]"
   ]
  },
  {
   "cell_type": "markdown",
   "metadata": {
    "id": "eaI7Bvyl7b3T"
   },
   "source": [
    "## Adding Elements\n",
    "\n",
    "You can add elements to a list using various methods. Two common methods are `append()` and `insert()`."
   ]
  },
  {
   "cell_type": "code",
   "execution_count": 14,
   "metadata": {
    "colab": {
     "base_uri": "https://localhost:8080/"
    },
    "executionInfo": {
     "elapsed": 6,
     "status": "ok",
     "timestamp": 1696141823591,
     "user": {
      "displayName": "Ian Chen",
      "userId": "13743494164923451218"
     },
     "user_tz": 420
    },
    "id": "d9-lfrVv7iTQ",
    "outputId": "039405b1-cdd4-451f-da62-2e67dffd2f9f"
   },
   "outputs": [
    {
     "name": "stdout",
     "output_type": "stream",
     "text": [
      "[1, 2, 3, 4, 5, 6, 7, 8, 9, 10, 6]\n",
      "[1, 7, 2, 3, 4, 5, 6, 7, 8, 9, 10, 6]\n"
     ]
    }
   ],
   "source": [
    "my_list.append(6)        # Add 6 to the end of the list\n",
    "print(my_list)\n",
    "my_list.insert(1, 7)     # Insert 7 at index 1, shifting other elements\n",
    "print(my_list)"
   ]
  },
  {
   "cell_type": "markdown",
   "metadata": {
    "id": "z-x8t8TA7mk3"
   },
   "source": [
    "## Removing Elements\n",
    "\n",
    "You can remove elements from a list using methods like `remove()`, `pop()`, and `del`."
   ]
  },
  {
   "cell_type": "code",
   "execution_count": 9,
   "metadata": {
    "colab": {
     "base_uri": "https://localhost:8080/"
    },
    "executionInfo": {
     "elapsed": 4,
     "status": "ok",
     "timestamp": 1696141873829,
     "user": {
      "displayName": "Ian Chen",
      "userId": "13743494164923451218"
     },
     "user_tz": 420
    },
    "id": "9lJbkyPP7sPT",
    "outputId": "558360cb-f5b1-4bf3-cb60-fa577feb7422"
   },
   "outputs": [
    {
     "ename": "NameError",
     "evalue": "name 'my_list' is not defined",
     "output_type": "error",
     "traceback": [
      "\u001b[31m---------------------------------------------------------------------------\u001b[39m",
      "\u001b[31mNameError\u001b[39m                                 Traceback (most recent call last)",
      "\u001b[36mCell\u001b[39m\u001b[36m \u001b[39m\u001b[32mIn[9]\u001b[39m\u001b[32m, line 2\u001b[39m\n\u001b[32m      1\u001b[39m \u001b[38;5;66;03m# Remove the element with the value 4\u001b[39;00m\n\u001b[32m----> \u001b[39m\u001b[32m2\u001b[39m \u001b[43mmy_list\u001b[49m.remove(\u001b[32m4\u001b[39m)\n\u001b[32m      3\u001b[39m \u001b[38;5;28mprint\u001b[39m(my_list)\n\u001b[32m      5\u001b[39m \u001b[38;5;66;03m# Remove and return the element at index 3\u001b[39;00m\n",
      "\u001b[31mNameError\u001b[39m: name 'my_list' is not defined"
     ]
    }
   ],
   "source": [
    "# Remove the element with the value 4\n",
    "my_list.remove(4)\n",
    "print(my_list)\n",
    "\n",
    "# Remove and return the element at index 3\n",
    "popped_element = my_list.pop(3)\n",
    "print(popped_element, my_list)\n",
    "\n",
    "# Delete the first element\n",
    "del my_list[0]\n",
    "print(my_list)"
   ]
  },
  {
   "cell_type": "markdown",
   "metadata": {
    "id": "3p9V4bs78hN4"
   },
   "source": [
    "## List Concatenation and Repetition\n",
    "\n",
    "You can combine lists using concatenation (+) and repeat a list using repetition (*)."
   ]
  },
  {
   "cell_type": "code",
   "execution_count": 10,
   "metadata": {
    "colab": {
     "base_uri": "https://localhost:8080/"
    },
    "executionInfo": {
     "elapsed": 5,
     "status": "ok",
     "timestamp": 1696142117401,
     "user": {
      "displayName": "Ian Chen",
      "userId": "13743494164923451218"
     },
     "user_tz": 420
    },
    "id": "4c8f9d90-80e7-416c-835f-b2b5884be243",
    "outputId": "a3b6d26d-cec4-47a5-8b5d-ab0d5e1031df"
   },
   "outputs": [
    {
     "name": "stdout",
     "output_type": "stream",
     "text": [
      "combined_list: [1, 2, 3, 4, 5, 6]\n",
      "repeated_list: [1, 2, 3, 1, 2, 3, 1, 2, 3]\n"
     ]
    }
   ],
   "source": [
    "list1 = [1, 2, 3]\n",
    "list2 = [4, 5, 6]\n",
    "combined_list = list1 + list2     # Concatenation\n",
    "repeated_list = list1 * 3         # Repetition: [1, 2, 3, 1, 2, 3, 1, 2, 3]\n",
    "print(f\"combined_list: {combined_list}\")\n",
    "print(f\"repeated_list: {repeated_list}\")"
   ]
  },
  {
   "cell_type": "markdown",
   "metadata": {
    "id": "f2qLTQ-e8vyB"
   },
   "source": [
    "## List Methods\n",
    "\n",
    "Python provides several built-in methods for working with lists. Some useful methods include\n",
    "- len()\n",
    "- sort()\n",
    "- reverse()\n",
    "- count()"
   ]
  },
  {
   "cell_type": "code",
   "execution_count": 15,
   "metadata": {
    "colab": {
     "base_uri": "https://localhost:8080/"
    },
    "executionInfo": {
     "elapsed": 191,
     "status": "ok",
     "timestamp": 1696142239054,
     "user": {
      "displayName": "Ian Chen",
      "userId": "13743494164923451218"
     },
     "user_tz": 420
    },
    "id": "cb978445-7e08-490e-a7ca-36b29f07e155",
    "outputId": "555d1d9e-501a-4bbe-8bac-2a2efb792550"
   },
   "outputs": [
    {
     "name": "stdout",
     "output_type": "stream",
     "text": [
      "12\n",
      "[1, 2, 3, 4, 5, 6, 6, 7, 7, 8, 9, 10]\n",
      "[10, 9, 8, 7, 7, 6, 6, 5, 4, 3, 2, 1]\n",
      "1\n"
     ]
    }
   ],
   "source": [
    "length = len(my_list)       # Get the length of the list\n",
    "print(length)\n",
    "my_list.sort()              # Sort the list in ascending order\n",
    "print(my_list)\n",
    "my_list.reverse()           # Reverse the order of elements\n",
    "print(my_list)\n",
    "count_of_2 = my_list.count(2)  # Count the occurrences of the value 2\n",
    "print(count_of_2)"
   ]
  },
  {
   "cell_type": "code",
   "execution_count": 17,
   "metadata": {
    "colab": {
     "base_uri": "https://localhost:8080/"
    },
    "executionInfo": {
     "elapsed": 184,
     "status": "ok",
     "timestamp": 1696142243885,
     "user": {
      "displayName": "Ian Chen",
      "userId": "13743494164923451218"
     },
     "user_tz": 420
    },
    "id": "b78c0918-7615-4c7e-8cee-df550c64653c",
    "outputId": "6b42dc0c-e69a-4741-d728-85106cb3e5ef"
   },
   "outputs": [
    {
     "data": {
      "text/plain": [
       "False"
      ]
     },
     "execution_count": 17,
     "metadata": {},
     "output_type": "execute_result"
    }
   ],
   "source": [
    "# Check for existence in a list with \"in\"\n",
    "20 in my_list  # => True"
   ]
  },
  {
   "cell_type": "code",
   "execution_count": 18,
   "metadata": {
    "colab": {
     "base_uri": "https://localhost:8080/"
    },
    "executionInfo": {
     "elapsed": 2,
     "status": "ok",
     "timestamp": 1696142245147,
     "user": {
      "displayName": "Ian Chen",
      "userId": "13743494164923451218"
     },
     "user_tz": 420
    },
    "id": "792764de-f134-45e0-9bfd-01ed0e281857",
    "outputId": "7804554e-33bb-4090-9f83-fd253da4e2bb"
   },
   "outputs": [
    {
     "data": {
      "text/plain": [
       "[1, 2, 3, 4, 5, 6, 6, 7, 7, 8, 9, 10]"
      ]
     },
     "execution_count": 18,
     "metadata": {},
     "output_type": "execute_result"
    }
   ],
   "source": [
    "# return a new list\n",
    "sorted(my_list)"
   ]
  },
  {
   "cell_type": "code",
   "execution_count": 19,
   "metadata": {
    "colab": {
     "base_uri": "https://localhost:8080/"
    },
    "executionInfo": {
     "elapsed": 166,
     "status": "ok",
     "timestamp": 1696142246106,
     "user": {
      "displayName": "Ian Chen",
      "userId": "13743494164923451218"
     },
     "user_tz": 420
    },
    "id": "d0e9c22a-8b68-4177-90da-c69a5e4c6d0a",
    "outputId": "a2a15735-f8eb-4acc-b876-b43205ce4388"
   },
   "outputs": [
    {
     "data": {
      "text/plain": [
       "[10, 9, 8, 7, 7, 6, 6, 5, 4, 3, 2, 1]"
      ]
     },
     "execution_count": 19,
     "metadata": {},
     "output_type": "execute_result"
    }
   ],
   "source": [
    "sorted(my_list, reverse=True)"
   ]
  },
  {
   "cell_type": "markdown",
   "metadata": {},
   "source": [
    "# Practice 2: Keywords and built-in functions\n",
    "In the previous sample code, we have seen lists containing numbers. \n",
    "- Is it possible to create a list of lists? Try out the code below and see if you can create a list variable named `l3` containing `l1` and `l2` as elements. Print out `l3`.\n",
    "- Create a list variable named `list` containing 7, 8, and 9. Print out list. Write this line of code before the definition of `l4`.\n",
    "- Read the last line of code in the cell below `l4 = list(range(50))`. Imagine what would happen before running the code, and then run it to compare your imagination with the actual outcome. Are you able to come up with an explanation?"
   ]
  },
  {
   "cell_type": "code",
   "execution_count": 20,
   "metadata": {
    "scrolled": false
   },
   "outputs": [
    {
     "name": "stdout",
     "output_type": "stream",
     "text": [
      "[[1, 2, 3], [4, 5, 6]]\n"
     ]
    }
   ],
   "source": [
    "# add your code below\n",
    "l1 = [1, 2, 3]\n",
    "l2 = [4, 5, 6]\n",
    "l3 = [l1,l2]\n",
    "print(l3)\n",
    "\n",
    "\n",
    "l4 = list(range(50))"
   ]
  },
  {
   "cell_type": "markdown",
   "metadata": {},
   "source": [
    "# Keywords and Builtin Modules Reserved by Python\n",
    "Some keywords or names are reserved by Python. We need to be careful when defining our own variables to avoid overwritting them."
   ]
  },
  {
   "cell_type": "code",
   "execution_count": null,
   "metadata": {},
   "outputs": [],
   "source": [
    "import keyword as kw\n",
    "import builtins\n",
    "\n",
    "kw.kwlist\n",
    "dir(builtins)"
   ]
  },
  {
   "cell_type": "markdown",
   "metadata": {
    "id": "f2ee7215-0fb8-46fc-8fe4-2ebd0f715b15"
   },
   "source": [
    "# Dictionary"
   ]
  },
  {
   "cell_type": "code",
   "execution_count": 21,
   "metadata": {
    "id": "7d7fc009-ec8b-40b3-98a8-1232ce9dec66"
   },
   "outputs": [],
   "source": [
    "# Dictionaries store mappings from keys to values\n",
    "empty_dict = {}\n",
    "# Here is a prefilled dictionary\n",
    "player_dict = {\"name\": \"Luyao\", \"is_active\": True, \"score\": 3}"
   ]
  },
  {
   "cell_type": "code",
   "execution_count": 22,
   "metadata": {
    "id": "85070741-7177-47da-8281-6c58ee0bd57b",
    "outputId": "a701dc1b-828e-4968-c076-2b48d4e90ff1"
   },
   "outputs": [
    {
     "data": {
      "text/plain": [
       "'Luyao'"
      ]
     },
     "execution_count": 22,
     "metadata": {},
     "output_type": "execute_result"
    }
   ],
   "source": [
    "# Look up values with []\n",
    "player_dict[\"name\"]  # => 1"
   ]
  },
  {
   "cell_type": "code",
   "execution_count": 23,
   "metadata": {
    "id": "a7955f59-791e-4ff9-bd31-4d1d358aadee",
    "outputId": "c702ecfb-caf1-4f4d-b22f-98175ebe65f4"
   },
   "outputs": [
    {
     "data": {
      "text/plain": [
       "['name', 'is_active', 'score']"
      ]
     },
     "execution_count": 23,
     "metadata": {},
     "output_type": "execute_result"
    }
   ],
   "source": [
    "# Get all keys as an iterable with \"keys()\". We need to wrap the call in list()\n",
    "# to turn it into a list. We'll talk about those later.  Note - for Python\n",
    "# versions <3.7, dictionary key ordering is not guaranteed. Your results might\n",
    "# not match the example below exactly. However, as of Python 3.7, dictionary\n",
    "# items maintain the order at which they are inserted into the dictionary.\n",
    "list(player_dict.keys())  # => [\"three\", \"two\", \"one\"] in Python <3.7\n",
    "list(player_dict.keys())  # => [\"one\", \"two\", \"three\"] in Python 3.7+"
   ]
  },
  {
   "cell_type": "code",
   "execution_count": 24,
   "metadata": {
    "id": "072d5171-5540-485d-a722-802a90e95ddb",
    "outputId": "5b75f554-b9fb-4b70-e58d-df6467b73c0b"
   },
   "outputs": [
    {
     "data": {
      "text/plain": [
       "['Luyao', True, 3]"
      ]
     },
     "execution_count": 24,
     "metadata": {},
     "output_type": "execute_result"
    }
   ],
   "source": [
    "# Get all values as an iterable with \"values()\". Once again we need to wrap it\n",
    "# in list() to get it out of the iterable. Note - Same as above regarding key\n",
    "# ordering.\n",
    "list(player_dict.values())  # => [3, 2, 1]  in Python <3.7\n",
    "list(player_dict.values())  # => [1, 2, 3] in Python 3.7+"
   ]
  },
  {
   "cell_type": "code",
   "execution_count": null,
   "metadata": {
    "id": "3b29a41b-a98b-4296-b608-de9f492e0a61",
    "outputId": "99bcd3eb-05a3-4a90-cf07-31d88a988e24"
   },
   "outputs": [],
   "source": [
    "# Check for existence of keys in a dictionary with \"in\"\n",
    "\"score\" in player_dict  # => True\n",
    "\"address\" in player_dict      # => False"
   ]
  },
  {
   "cell_type": "code",
   "execution_count": 26,
   "metadata": {
    "id": "c972004b-d838-46cd-b14f-97e1c7462933",
    "outputId": "8d8795f9-7673-4e12-c051-2b9800d6d7b3"
   },
   "outputs": [
    {
     "ename": "KeyError",
     "evalue": "'address'",
     "output_type": "error",
     "traceback": [
      "\u001b[31m---------------------------------------------------------------------------\u001b[39m",
      "\u001b[31mKeyError\u001b[39m                                  Traceback (most recent call last)",
      "\u001b[36mCell\u001b[39m\u001b[36m \u001b[39m\u001b[32mIn[26]\u001b[39m\u001b[32m, line 2\u001b[39m\n\u001b[32m      1\u001b[39m \u001b[38;5;66;03m# Looking up a non-existing key is a KeyError\u001b[39;00m\n\u001b[32m----> \u001b[39m\u001b[32m2\u001b[39m \u001b[43mplayer_dict\u001b[49m\u001b[43m[\u001b[49m\u001b[33;43m\"\u001b[39;49m\u001b[33;43maddress\u001b[39;49m\u001b[33;43m\"\u001b[39;49m\u001b[43m]\u001b[49m  \u001b[38;5;66;03m# KeyError\u001b[39;00m\n",
      "\u001b[31mKeyError\u001b[39m: 'address'"
     ]
    }
   ],
   "source": [
    "# Looking up a non-existing key is a KeyError\n",
    "player_dict[\"address\"]  # KeyError"
   ]
  },
  {
   "cell_type": "code",
   "execution_count": 27,
   "metadata": {
    "id": "c87a7890-8d40-4522-92cc-ec17fe09fe7e",
    "outputId": "d8dbb4a5-6b70-4a5d-825b-e40664f7dc48"
   },
   "outputs": [
    {
     "data": {
      "text/plain": [
       "{'name': 'Luyao', 'is_active': True, 'score': 3}"
      ]
     },
     "execution_count": 27,
     "metadata": {},
     "output_type": "execute_result"
    }
   ],
   "source": [
    "player_dict"
   ]
  },
  {
   "cell_type": "code",
   "execution_count": 25,
   "metadata": {
    "id": "bfdf9301-ada3-4315-9f50-ab95754df6d4",
    "outputId": "41438bb0-4e86-4ab4-d88b-caec98afdb54"
   },
   "outputs": [
    {
     "data": {
      "text/plain": [
       "3"
      ]
     },
     "execution_count": 25,
     "metadata": {},
     "output_type": "execute_result"
    }
   ],
   "source": [
    "# Use \"get()\" method to avoid the KeyError\n",
    "player_dict.get(\"score\")      # => 1"
   ]
  },
  {
   "cell_type": "code",
   "execution_count": 28,
   "metadata": {
    "id": "66459682-bc80-4c75-a43e-eb1b694511fa"
   },
   "outputs": [],
   "source": [
    "player_dict.get(\"address\")     # => None"
   ]
  },
  {
   "cell_type": "code",
   "execution_count": 29,
   "metadata": {
    "id": "b08f5ccb-6056-40ff-ba4d-af5a2ef2b53c",
    "outputId": "ed1f8e50-6514-4366-b512-b099e2149e35"
   },
   "outputs": [
    {
     "data": {
      "text/plain": [
       "3"
      ]
     },
     "execution_count": 29,
     "metadata": {},
     "output_type": "execute_result"
    }
   ],
   "source": [
    "# The get method supports a default argument when the value is missing\n",
    "player_dict.get(\"score\", 0)   # => 1"
   ]
  },
  {
   "cell_type": "code",
   "execution_count": 30,
   "metadata": {
    "id": "b84ab9da-1b50-485e-91f7-23fdc7d4168a",
    "outputId": "9d4cb7e5-a5e5-44d1-e7c2-ad97c7499c7d"
   },
   "outputs": [
    {
     "data": {
      "text/plain": [
       "'University of Washington'"
      ]
     },
     "execution_count": 30,
     "metadata": {},
     "output_type": "execute_result"
    }
   ],
   "source": [
    "player_dict.get(\"address\", \"University of Washington\")  # => 4"
   ]
  },
  {
   "cell_type": "code",
   "execution_count": 31,
   "metadata": {
    "id": "ac0d37ed-4e7d-469b-a443-fd000d8c2d11",
    "outputId": "b04d632d-bc06-4362-87ca-17bf18033c64"
   },
   "outputs": [
    {
     "data": {
      "text/plain": [
       "{'name': 'Luyao',\n",
       " 'is_active': True,\n",
       " 'score': 3,\n",
       " 'address': 'Univeristy of Washington'}"
      ]
     },
     "execution_count": 31,
     "metadata": {},
     "output_type": "execute_result"
    }
   ],
   "source": [
    "# Adding/Updating a dictionary\n",
    "player_dict[\"address\"] = \"Univeristy of Washington\"\n",
    "player_dict"
   ]
  },
  {
   "cell_type": "code",
   "execution_count": 32,
   "metadata": {
    "id": "3cfd8494-c374-49d8-8dc1-ff9f0e4469d2",
    "outputId": "a1ff7771-edc6-4165-c458-07b9d16edc45"
   },
   "outputs": [
    {
     "data": {
      "text/plain": [
       "{'name': 'Luyao',\n",
       " 'is_active': True,\n",
       " 'score': 100,\n",
       " 'address': 'Univeristy of Washington'}"
      ]
     },
     "execution_count": 32,
     "metadata": {},
     "output_type": "execute_result"
    }
   ],
   "source": [
    "player_dict['score'] = 100\n",
    "player_dict"
   ]
  },
  {
   "cell_type": "code",
   "execution_count": 33,
   "metadata": {
    "id": "3ba7cee1-240e-4212-9148-048300750698",
    "outputId": "aff5979a-def7-438d-c489-b798f6a50d70"
   },
   "outputs": [
    {
     "data": {
      "text/plain": [
       "{'name': 'Luyao', 'is_active': True, 'score': 100}"
      ]
     },
     "execution_count": 33,
     "metadata": {},
     "output_type": "execute_result"
    }
   ],
   "source": [
    "# Remove keys from a dictionary with del\n",
    "del player_dict[\"address\"]  # Removes the key \"one\" from filled dict\n",
    "player_dict"
   ]
  },
  {
   "cell_type": "markdown",
   "metadata": {},
   "source": [
    "# Dictionaries in a list\n"
   ]
  },
  {
   "cell_type": "code",
   "execution_count": 34,
   "metadata": {},
   "outputs": [],
   "source": [
    "\"Create, Read, Update, Delete\"\n",
    "instructors = [{\n",
    "    \"name\": \"Luyao\",\n",
    "    \"major\": \"ECE\",\n",
    "    \"school\": \"UW\",\n",
    "    \"score\": 10\n",
    "},\n",
    "{\n",
    "    \"name\": \"Kevin\",\n",
    "    \"major\": \"Civil Engineering\",\n",
    "    \"school\": \"UW\",\n",
    "    \"score\": 10\n",
    "}]"
   ]
  },
  {
   "cell_type": "code",
   "execution_count": 35,
   "metadata": {},
   "outputs": [
    {
     "name": "stdout",
     "output_type": "stream",
     "text": [
      "[{'name': 'Luyao', 'major': 'ECE', 'school': 'UW', 'score': 10}, {'name': 'Kevin', 'major': 'Civil Engineering', 'school': 'UW', 'score': 10}, {'name': 'Haonan', 'major': 'ECE', 'school': 'UW', 'score': 10}]\n"
     ]
    }
   ],
   "source": [
    "# create\n",
    "new_instructor = {\"name\": \"Haonan\",\n",
    "    \"major\": \"ECE\",\n",
    "    \"school\": \"UW\",\n",
    "    \"score\": 10}\n",
    "\n",
    "instructors.append(new_instructor)\n",
    "print(instructors)"
   ]
  },
  {
   "cell_type": "code",
   "execution_count": null,
   "metadata": {},
   "outputs": [],
   "source": [
    "# read \n",
    "instructors[0][\"name\"]"
   ]
  },
  {
   "cell_type": "code",
   "execution_count": null,
   "metadata": {},
   "outputs": [],
   "source": [
    "# update\n",
    "instructors[0][\"score\"] = 1"
   ]
  },
  {
   "cell_type": "code",
   "execution_count": null,
   "metadata": {},
   "outputs": [],
   "source": [
    "# delete\n",
    "instructors.pop(0)\n",
    "instructors"
   ]
  },
  {
   "cell_type": "markdown",
   "metadata": {},
   "source": [
    "# Practice 3: keyword and value of dictionary\n",
    "Based on our discussion so far, create a menu for Microsoft Cafe. Choose appropriate data structure. Your menu should at least capture:\n",
    "- Item category such as bakery, drink\n",
    "- Sizes of drinks and associated price\n",
    "\n",
    "**Optional**: Revise our program to print receipt based on your new menu"
   ]
  },
  {
   "cell_type": "code",
   "execution_count": null,
   "metadata": {},
   "outputs": [
    {
     "name": "stdout",
     "output_type": "stream",
     "text": [
      "12.88\n",
      "4.99\n"
     ]
    }
   ],
   "source": [
    "# add your code below\n",
    "menu = {\n",
    "    \"bakery\": {\n",
    "        \"bread\":12.99, \n",
    "         \"cake\":1.99, \n",
    "         \"donut\":12.88\n",
    "         },\n",
    "    \"beverage\": {\n",
    "        \"coffee\":{\"large\":4.99, \"medium\":3.99, \"small\":2.99},\n",
    "        \"tea\":1.99,\n",
    "        \"juice\":3.99\n",
    "    }\n",
    "}\n",
    "\n",
    "print(menu[\"bakery\"][\"donut\"])\n",
    "print(menu[\"beverage\"][\"coffee\"][\"large\"])"
   ]
  },
  {
   "cell_type": "markdown",
   "metadata": {
    "id": "9df82b14-a31b-4982-8c19-97ef98ab9369"
   },
   "source": [
    "# Boolean"
   ]
  },
  {
   "cell_type": "code",
   "execution_count": null,
   "metadata": {
    "id": "b32f3cc9-1a67-4aae-8b78-a6c84fca80b7",
    "outputId": "c81175fa-86ae-4292-b481-378a6518d9d2"
   },
   "outputs": [],
   "source": [
    "True"
   ]
  },
  {
   "cell_type": "code",
   "execution_count": null,
   "metadata": {
    "id": "0191eef7-e643-49bb-81d5-916659ecaff1",
    "outputId": "90d2aa1f-7dfe-4013-a28f-880d5eefeea3"
   },
   "outputs": [],
   "source": [
    "False"
   ]
  },
  {
   "cell_type": "code",
   "execution_count": null,
   "metadata": {
    "id": "c681f5f1-ad74-4022-90a2-f3452c785ea2",
    "outputId": "b305e0c7-ff53-4ca4-be22-86d6c1ec82d7"
   },
   "outputs": [],
   "source": [
    "1 == 1"
   ]
  },
  {
   "cell_type": "code",
   "execution_count": null,
   "metadata": {
    "id": "53224793-f727-46c9-b98a-bd22fcf132bf",
    "outputId": "9ceff8d6-19c7-4f64-dbe0-5875b47fbfa2",
    "scrolled": true
   },
   "outputs": [],
   "source": [
    "'Apple' == \"Apple\""
   ]
  },
  {
   "cell_type": "markdown",
   "metadata": {
    "id": "985d6e05-fe6b-4616-99a5-ecbedb6aadc6"
   },
   "source": [
    "## Truthy and falsy values"
   ]
  },
  {
   "cell_type": "code",
   "execution_count": null,
   "metadata": {
    "id": "cd12e5e9-3360-42f0-a488-051160f02f94",
    "outputId": "bcf5a008-9b34-454a-9d58-1e476608a037"
   },
   "outputs": [],
   "source": [
    "bool(\"Apple\")"
   ]
  },
  {
   "cell_type": "code",
   "execution_count": null,
   "metadata": {
    "id": "14f53baf-d081-43dd-9aac-182a0f145384",
    "outputId": "e5ccd8fa-af88-4522-9d9b-b5ba8d9d57d0"
   },
   "outputs": [],
   "source": [
    "bool(\"\")"
   ]
  },
  {
   "cell_type": "code",
   "execution_count": null,
   "metadata": {
    "id": "4539f694-ce8d-4c33-ad34-d95355042394",
    "outputId": "70423e60-9aa5-4413-c090-ee82c2241f9f"
   },
   "outputs": [],
   "source": [
    "bool(1)"
   ]
  },
  {
   "cell_type": "code",
   "execution_count": null,
   "metadata": {
    "id": "a5ef3a43-dce0-4c20-b7e6-5a6f2625c5c6",
    "outputId": "48aaa85a-2522-4bc9-8606-eac136c55d76"
   },
   "outputs": [],
   "source": [
    "bool(0)"
   ]
  },
  {
   "cell_type": "code",
   "execution_count": null,
   "metadata": {
    "id": "c261ffc8-e8b8-4103-aa1c-2c689fa28b02",
    "outputId": "89644fa4-e80c-484a-e666-90f57819448c"
   },
   "outputs": [],
   "source": [
    "bool([1,2,3])"
   ]
  },
  {
   "cell_type": "code",
   "execution_count": null,
   "metadata": {
    "id": "c779423a-f5fe-4c6e-a490-a0afecbfcc36",
    "outputId": "69d05fb1-49d9-4725-de53-20e0cbaa5a48"
   },
   "outputs": [],
   "source": [
    "bool([])"
   ]
  },
  {
   "cell_type": "markdown",
   "metadata": {
    "id": "74a196e6-5109-438f-8bfb-bf9f921c07b2"
   },
   "source": [
    "## Boolean Operators"
   ]
  },
  {
   "cell_type": "code",
   "execution_count": null,
   "metadata": {
    "id": "3179b9d3-bc22-4dce-9904-632449fdb12c",
    "outputId": "776e36ed-3472-4f40-bddb-b8d0e03e5705"
   },
   "outputs": [],
   "source": [
    "1 > 2"
   ]
  },
  {
   "cell_type": "code",
   "execution_count": null,
   "metadata": {
    "id": "a4888f84-5475-486a-883a-47e3a1bf7233",
    "outputId": "d442e30c-d7d6-4226-98ca-550f5d5a80e1"
   },
   "outputs": [],
   "source": [
    "1 < 2"
   ]
  },
  {
   "cell_type": "code",
   "execution_count": null,
   "metadata": {
    "id": "5c7a2cda-6db6-49a6-83e6-3a452a546cb1",
    "outputId": "42be9361-9aec-4541-cd6b-bfc997f4164d"
   },
   "outputs": [],
   "source": [
    "1 >= 1"
   ]
  },
  {
   "cell_type": "code",
   "execution_count": null,
   "metadata": {
    "id": "839233e2-f141-44ff-be73-c243a2a8b66f",
    "outputId": "726f39c5-49c4-4563-a718-6bf3207f0930"
   },
   "outputs": [],
   "source": [
    "1 == 1"
   ]
  },
  {
   "cell_type": "code",
   "execution_count": null,
   "metadata": {
    "id": "4dd493e8-a378-4751-b190-9ff4b9c8ce3f",
    "outputId": "da4d115e-dfbf-41cf-b463-373272ae422a"
   },
   "outputs": [],
   "source": [
    "1 != 1"
   ]
  },
  {
   "cell_type": "code",
   "execution_count": null,
   "metadata": {
    "id": "24c3c152-0220-4c60-936d-e35d6698a403",
    "outputId": "a60a9634-e917-4d2d-fba1-8c5bb55e15f1"
   },
   "outputs": [],
   "source": [
    "not True"
   ]
  },
  {
   "cell_type": "code",
   "execution_count": null,
   "metadata": {
    "id": "3b554300-1dd0-4a88-a140-8c411bb0dd97",
    "outputId": "917649b7-30e1-4d99-9259-8b3251ebbb46"
   },
   "outputs": [],
   "source": [
    "not False"
   ]
  },
  {
   "cell_type": "code",
   "execution_count": null,
   "metadata": {
    "id": "2f85b56b-0b5b-4b21-8bb3-bb7c32aec870",
    "outputId": "dd477ffe-523a-48b5-eace-537d3195ab6a"
   },
   "outputs": [],
   "source": [
    "True and False"
   ]
  },
  {
   "cell_type": "code",
   "execution_count": null,
   "metadata": {
    "id": "037ccabd-c342-4142-a825-838a050acc7c",
    "outputId": "04dd36b4-5002-4d7a-b753-2870f6c2f168"
   },
   "outputs": [],
   "source": [
    "True or False"
   ]
  },
  {
   "cell_type": "code",
   "execution_count": null,
   "metadata": {
    "id": "5b203a81-e007-40c8-9807-bdd967ce22d7",
    "outputId": "d6c03789-f28d-4fd1-d2d6-a3c9c8aec1ce"
   },
   "outputs": [],
   "source": [
    "# Check if something is in a collection\n",
    "animals = ['Dog', 'Cat', 'Fish']\n",
    "print('Dragon' in animals)\n",
    "\n",
    "# in on dictionaries checks for existance of key\n",
    "player = {\"name\": \"Luyao\", \"score\": 3}\n",
    "print('score' in player)"
   ]
  },
  {
   "cell_type": "markdown",
   "metadata": {
    "id": "1b4ca7a4-4fb5-44fd-9085-e82234ba9756"
   },
   "source": [
    "# Control Flow and Iterables"
   ]
  },
  {
   "cell_type": "markdown",
   "metadata": {
    "id": "94d7f547-245b-4668-ad9c-163d56509649"
   },
   "source": [
    "## if-else\n",
    "<img src=\"if-else-flowchart.png\" width=\"1000\"/>"
   ]
  },
  {
   "cell_type": "code",
   "execution_count": null,
   "metadata": {
    "id": "5c22d145-19f3-4f71-8cb0-97227f112475",
    "outputId": "ecc52f75-319f-4a1a-a5c0-a3a793a8321a"
   },
   "outputs": [
    {
     "ename": "KeyboardInterrupt",
     "evalue": "Interrupted by user",
     "output_type": "error",
     "traceback": [
      "\u001b[31m---------------------------------------------------------------------------\u001b[39m",
      "\u001b[31mKeyboardInterrupt\u001b[39m                         Traceback (most recent call last)",
      "\u001b[36mCell\u001b[39m\u001b[36m \u001b[39m\u001b[32mIn[43]\u001b[39m\u001b[32m, line 2\u001b[39m\n\u001b[32m      1\u001b[39m \u001b[38;5;66;03m# Let's just make a variable\u001b[39;00m\n\u001b[32m----> \u001b[39m\u001b[32m2\u001b[39m some_var = \u001b[38;5;28mint\u001b[39m(\u001b[38;5;28;43minput\u001b[39;49m\u001b[43m(\u001b[49m\u001b[33;43m\"\u001b[39;49m\u001b[33;43mPlease enter a number: 10\u001b[39;49m\u001b[33;43m\"\u001b[39;49m\u001b[43m)\u001b[49m)\n",
      "\u001b[36mFile \u001b[39m\u001b[32m~/miniconda3/lib/python3.11/site-packages/ipykernel/kernelbase.py:1473\u001b[39m, in \u001b[36mKernel.raw_input\u001b[39m\u001b[34m(self, prompt)\u001b[39m\n\u001b[32m   1471\u001b[39m     msg = \u001b[33m\"\u001b[39m\u001b[33mraw_input was called, but this frontend does not support input requests.\u001b[39m\u001b[33m\"\u001b[39m\n\u001b[32m   1472\u001b[39m     \u001b[38;5;28;01mraise\u001b[39;00m StdinNotImplementedError(msg)\n\u001b[32m-> \u001b[39m\u001b[32m1473\u001b[39m \u001b[38;5;28;01mreturn\u001b[39;00m \u001b[38;5;28;43mself\u001b[39;49m\u001b[43m.\u001b[49m\u001b[43m_input_request\u001b[49m\u001b[43m(\u001b[49m\n\u001b[32m   1474\u001b[39m \u001b[43m    \u001b[49m\u001b[38;5;28;43mstr\u001b[39;49m\u001b[43m(\u001b[49m\u001b[43mprompt\u001b[49m\u001b[43m)\u001b[49m\u001b[43m,\u001b[49m\n\u001b[32m   1475\u001b[39m \u001b[43m    \u001b[49m\u001b[38;5;28;43mself\u001b[39;49m\u001b[43m.\u001b[49m\u001b[43m_shell_parent_ident\u001b[49m\u001b[43m.\u001b[49m\u001b[43mget\u001b[49m\u001b[43m(\u001b[49m\u001b[43m)\u001b[49m\u001b[43m,\u001b[49m\n\u001b[32m   1476\u001b[39m \u001b[43m    \u001b[49m\u001b[38;5;28;43mself\u001b[39;49m\u001b[43m.\u001b[49m\u001b[43mget_parent\u001b[49m\u001b[43m(\u001b[49m\u001b[33;43m\"\u001b[39;49m\u001b[33;43mshell\u001b[39;49m\u001b[33;43m\"\u001b[39;49m\u001b[43m)\u001b[49m\u001b[43m,\u001b[49m\n\u001b[32m   1477\u001b[39m \u001b[43m    \u001b[49m\u001b[43mpassword\u001b[49m\u001b[43m=\u001b[49m\u001b[38;5;28;43;01mFalse\u001b[39;49;00m\u001b[43m,\u001b[49m\n\u001b[32m   1478\u001b[39m \u001b[43m\u001b[49m\u001b[43m)\u001b[49m\n",
      "\u001b[36mFile \u001b[39m\u001b[32m~/miniconda3/lib/python3.11/site-packages/ipykernel/kernelbase.py:1518\u001b[39m, in \u001b[36mKernel._input_request\u001b[39m\u001b[34m(self, prompt, ident, parent, password)\u001b[39m\n\u001b[32m   1515\u001b[39m \u001b[38;5;28;01mexcept\u001b[39;00m \u001b[38;5;167;01mKeyboardInterrupt\u001b[39;00m:\n\u001b[32m   1516\u001b[39m     \u001b[38;5;66;03m# re-raise KeyboardInterrupt, to truncate traceback\u001b[39;00m\n\u001b[32m   1517\u001b[39m     msg = \u001b[33m\"\u001b[39m\u001b[33mInterrupted by user\u001b[39m\u001b[33m\"\u001b[39m\n\u001b[32m-> \u001b[39m\u001b[32m1518\u001b[39m     \u001b[38;5;28;01mraise\u001b[39;00m \u001b[38;5;167;01mKeyboardInterrupt\u001b[39;00m(msg) \u001b[38;5;28;01mfrom\u001b[39;00m\u001b[38;5;250m \u001b[39m\u001b[38;5;28;01mNone\u001b[39;00m\n\u001b[32m   1519\u001b[39m \u001b[38;5;28;01mexcept\u001b[39;00m \u001b[38;5;167;01mException\u001b[39;00m:\n\u001b[32m   1520\u001b[39m     \u001b[38;5;28mself\u001b[39m.log.warning(\u001b[33m\"\u001b[39m\u001b[33mInvalid Message:\u001b[39m\u001b[33m\"\u001b[39m, exc_info=\u001b[38;5;28;01mTrue\u001b[39;00m)\n",
      "\u001b[31mKeyboardInterrupt\u001b[39m: Interrupted by user"
     ]
    }
   ],
   "source": [
    "# Let's just make a variable\n",
    "some_var = int(input(\"Please enter a number: \"))"
   ]
  },
  {
   "cell_type": "code",
   "execution_count": null,
   "metadata": {
    "id": "e865950e-e8c5-4fd7-8a61-4bb8de3b60cc",
    "outputId": "142d4896-e245-4547-cde8-ebb552a0c817"
   },
   "outputs": [],
   "source": [
    "# Here is an if statement. Indentation is significant in Python!\n",
    "# Convention is to use four spaces, not tabs.\n",
    "# This prints \"some_var is smaller than 10\"\n",
    "if some_var > 10:\n",
    "    print(\"some_var is totally bigger than 10.\")\n",
    "elif some_var < 10:    # This elif clause is optional.\n",
    "    print(\"some_var is smaller than 10.\")\n",
    "else:                  # This is optional too.\n",
    "    print(\"some_var is indeed 10.\")"
   ]
  },
  {
   "cell_type": "code",
   "execution_count": 41,
   "metadata": {
    "id": "063985ab-8a95-4c73-ad21-7c1d8d24141a",
    "outputId": "bc59ab26-9982-49d6-d457-6be1821e889e"
   },
   "outputs": [
    {
     "name": "stdout",
     "output_type": "stream",
     "text": [
      "My name is Apple\n"
     ]
    }
   ],
   "source": [
    "name = \"Apple\"\n",
    "if name:\n",
    "    print(f\"My name is {name}\")"
   ]
  },
  {
   "cell_type": "markdown",
   "metadata": {
    "id": "f21b2336-faa3-455d-a671-dcded2320503"
   },
   "source": [
    "# Practice 4: If-else\n",
    "Given the menu of Microsoft Cafe, prepare a program to get the price of item ordered by customer. If no such item is found from menu, notify the user."
   ]
  },
  {
   "cell_type": "code",
   "execution_count": null,
   "metadata": {},
   "outputs": [],
   "source": [
    "# add your code below\n",
    "\n",
    "\n"
   ]
  },
  {
   "cell_type": "markdown",
   "metadata": {
    "id": "313160a0-d7a1-4281-81a0-061ffd0b8e03"
   },
   "source": [
    "# Loops\n",
    "<img src = \"iterable.png\" width = \"1000\">"
   ]
  },
  {
   "cell_type": "code",
   "execution_count": null,
   "metadata": {
    "id": "c6da4479-6d0c-4ba2-805f-09c53ed90c45",
    "outputId": "dc72898e-2bbe-4d9c-a5ae-8473cd92e553"
   },
   "outputs": [],
   "source": [
    "\"\"\"\n",
    "For loops iterate over lists\n",
    "prints:\n",
    "    dog is a mammal\n",
    "    cat is a mammal\n",
    "    mouse is a mammal\n",
    "\"\"\"\n",
    "\n",
    "animals = [\"dog\", \"cat\", \"mouse\"]\n",
    "for animal in animals:\n",
    "    # You can use format() to interpolate formatted strings\n",
    "    print(\"{} is a mammal\".format(animal))"
   ]
  },
  {
   "cell_type": "code",
   "execution_count": null,
   "metadata": {
    "id": "bce375b4-790a-4231-ab4b-f385f7911556",
    "outputId": "52c50a9f-c036-41da-b2ad-c50772f16381"
   },
   "outputs": [],
   "source": [
    "\"\"\"\n",
    "Loop over a list to retrieve both the index and the value of each list item:\n",
    "    0 dog\n",
    "    1 cat\n",
    "    2 mouse\n",
    "\"\"\"\n",
    "animals = [\"dog\", \"cat\", \"mouse\"]\n",
    "for i, value in enumerate(animals):\n",
    "    print(i, value)\n"
   ]
  },
  {
   "cell_type": "code",
   "execution_count": null,
   "metadata": {
    "id": "bcc26fab-7c07-420b-a454-57117f7a6616",
    "outputId": "2626e958-222f-4e68-d4e8-7d232f9ea676"
   },
   "outputs": [],
   "source": [
    "employees = [\n",
    "    {\"id\": 1, \"name\": \"Ian\", \"score\": 5, \"is_active\": True},\n",
    "    {\"id\": 2, \"name\": \"Luyao\", \"score\": 6, \"is_active\": False},\n",
    "]\n",
    "for employee in employees:\n",
    "    print(f\"Employee {employee['id']}, name: {employee['name']}\")"
   ]
  },
  {
   "cell_type": "code",
   "execution_count": null,
   "metadata": {
    "id": "c802a143-72f5-4f9f-9446-a48eabd9c008",
    "outputId": "e082c15d-552f-4aed-eaa3-7c0a10b6808a"
   },
   "outputs": [
    {
     "name": "stdout",
     "output_type": "stream",
     "text": [
      "0\n",
      "1\n",
      "2\n",
      "3\n"
     ]
    }
   ],
   "source": [
    "\"\"\"\n",
    "\"range(number)\" returns an iterable of numbers\n",
    "from zero up to (but excluding) the given number\n",
    "prints:\n",
    "    0\n",
    "    1\n",
    "    2\n",
    "    3\n",
    "\"\"\"\n",
    "for i in range(4):\n",
    "    print(i)"
   ]
  },
  {
   "cell_type": "code",
   "execution_count": null,
   "metadata": {
    "id": "5023c758-8323-46c1-8479-88699364390d",
    "outputId": "83193026-f822-4289-b854-2ad19088c223"
   },
   "outputs": [],
   "source": [
    "\n",
    "\"\"\"\n",
    "\"range(lower, upper)\" returns an iterable of numbers\n",
    "from the lower number to the upper number\n",
    "prints:\n",
    "    4\n",
    "    5\n",
    "    6\n",
    "    7\n",
    "\"\"\"\n",
    "for i in range(4, 8):\n",
    "    print(i)"
   ]
  },
  {
   "cell_type": "code",
   "execution_count": null,
   "metadata": {
    "id": "2aeb813b-694d-4a4b-9734-c34cd76ad5c5",
    "outputId": "aa97fe73-b652-4c72-e7a2-f42e1d703033"
   },
   "outputs": [],
   "source": [
    "\"\"\"\n",
    "\"range(lower, upper, step)\" returns an iterable of numbers\n",
    "from the lower number to the upper number, while incrementing\n",
    "by step. If step is not indicated, the default value is 1.\n",
    "prints:\n",
    "    4\n",
    "    6\n",
    "\"\"\"\n",
    "for i in range(4, 8, 2):\n",
    "    print(i)"
   ]
  },
  {
   "cell_type": "code",
   "execution_count": null,
   "metadata": {
    "id": "63a1f029-9ed0-4cd3-9d05-c83eacb5c265",
    "outputId": "77692510-32dc-4910-8e7e-48adabfa3b67"
   },
   "outputs": [],
   "source": [
    "?range"
   ]
  },
  {
   "cell_type": "markdown",
   "metadata": {},
   "source": [
    "# while loop\n",
    "<img src = \"while-loop.png\" width = \"1000\">\n"
   ]
  },
  {
   "cell_type": "code",
   "execution_count": null,
   "metadata": {
    "id": "1223287e-738d-4ecd-8a04-d1f02138025f",
    "outputId": "bce283ab-16bd-4669-9697-bce6c89b054d"
   },
   "outputs": [],
   "source": [
    "\"\"\"\n",
    "While loops go until a condition is no longer met.\n",
    "prints:\n",
    "    0\n",
    "    1\n",
    "    2\n",
    "    3\n",
    "\"\"\"\n",
    "x = 0\n",
    "while x < 4:\n",
    "    print(x)\n",
    "    x += 1  # Shorthand for x = x + 1"
   ]
  },
  {
   "cell_type": "markdown",
   "metadata": {
    "id": "92b3a111-0b1d-4134-8698-961623d61ad2"
   },
   "source": [
    "# Comprehensions"
   ]
  },
  {
   "cell_type": "markdown",
   "metadata": {
    "id": "0e259756-1c29-4025-9949-e3ce14613f4f"
   },
   "source": [
    "## Transformation"
   ]
  },
  {
   "cell_type": "code",
   "execution_count": 50,
   "metadata": {
    "id": "a79d7831-3682-4134-89c7-bee1381dded7",
    "outputId": "09754c5a-7696-4fdf-eda4-e73cec788489"
   },
   "outputs": [
    {
     "data": {
      "text/plain": [
       "'DOG'"
      ]
     },
     "execution_count": 50,
     "metadata": {},
     "output_type": "execute_result"
    }
   ],
   "source": [
    "# Change string to all cap using .upper()\n",
    "\"dog\".upper()"
   ]
  },
  {
   "cell_type": "code",
   "execution_count": 51,
   "metadata": {
    "id": "e0bb3cce-dcd6-4f97-9cd1-4c06004e5bf7"
   },
   "outputs": [],
   "source": [
    "animals = [\"dog\", \"cat\", \"mouse\"]"
   ]
  },
  {
   "cell_type": "code",
   "execution_count": 52,
   "metadata": {
    "id": "2f28bfc8-d783-404c-91cc-4208bf9c1816",
    "outputId": "6df9e6d2-bc85-4ee1-8181-cd0728dd48b0"
   },
   "outputs": [
    {
     "data": {
      "text/plain": [
       "'DOG'"
      ]
     },
     "execution_count": 52,
     "metadata": {},
     "output_type": "execute_result"
    }
   ],
   "source": [
    "# take one animal and make it all cap\n",
    "animals[0].upper()"
   ]
  },
  {
   "cell_type": "code",
   "execution_count": 54,
   "metadata": {
    "id": "5481bb7b-b3ff-45ca-893a-2e8234572022",
    "outputId": "8f8ef961-5905-4300-b344-143ddc4fefbf"
   },
   "outputs": [
    {
     "name": "stdout",
     "output_type": "stream",
     "text": [
      "['DOG', 'CAT', 'MOUSE']\n"
     ]
    }
   ],
   "source": [
    "# what if we want to make a list of animals all capitalized?\n",
    "capitalized_animals = []\n",
    "for animal in animals:\n",
    "    cap_animal = animal.upper()\n",
    "    capitalized_animals.append(cap_animal)\n",
    "print(capitalized_animals)"
   ]
  },
  {
   "cell_type": "code",
   "execution_count": null,
   "metadata": {
    "id": "d4c355ae-57a6-45c2-be06-a9e07a8ea82b",
    "outputId": "a01c949c-b2ce-4bd0-c85d-10c757c477e6"
   },
   "outputs": [],
   "source": [
    "# The pythonic way\n",
    "[a.upper() for a in animals]"
   ]
  },
  {
   "cell_type": "markdown",
   "metadata": {
    "id": "4a7ef631-5a5a-49da-9616-588c4a8860da"
   },
   "source": [
    "## Filtering"
   ]
  },
  {
   "cell_type": "code",
   "execution_count": null,
   "metadata": {
    "id": "e6c18711-c71f-4fa1-bef6-68745b6a7341",
    "outputId": "647a4d68-f348-4cbd-9fe4-10d1b6af710d"
   },
   "outputs": [],
   "source": [
    "[a for a in animals if a == 'dog']"
   ]
  },
  {
   "cell_type": "markdown",
   "metadata": {
    "id": "a57b92cb-ce4a-4434-bf19-3e436b0c4c76"
   },
   "source": [
    "## Filter then transform"
   ]
  },
  {
   "cell_type": "code",
   "execution_count": null,
   "metadata": {
    "id": "7680e6bf-aa16-4de8-b727-bb129f06ba77",
    "outputId": "028ac2f2-9d29-4d05-9897-59fb34cf86f0"
   },
   "outputs": [],
   "source": [
    "[a.upper() for a in animals if a == 'dog']"
   ]
  },
  {
   "cell_type": "markdown",
   "metadata": {
    "id": "a62e95be-7d5d-49a0-8eb8-86b0833e6aa9"
   },
   "source": [
    "## Real world example"
   ]
  },
  {
   "cell_type": "code",
   "execution_count": 55,
   "metadata": {
    "id": "46fc0efd-488c-41d2-88f6-2a2b4996e942",
    "outputId": "80823589-b375-4afc-d85b-24a6c969d749"
   },
   "outputs": [
    {
     "data": {
      "text/plain": [
       "[{'id': 2, 'name': 'Luyao', 'score': 6, 'is_active': False}]"
      ]
     },
     "execution_count": 55,
     "metadata": {},
     "output_type": "execute_result"
    }
   ],
   "source": [
    "employees = [\n",
    "    {\"id\": 1, \"name\": \"Ian\", \"score\": 5, \"is_active\": True},\n",
    "    {\"id\": 2, \"name\": \"Luyao\", \"score\": 6, \"is_active\": False},\n",
    "]\n",
    "high_score_employees = [x for x in employees if x['score'] > 5]\n",
    "high_score_employees"
   ]
  },
  {
   "cell_type": "code",
   "execution_count": 56,
   "metadata": {
    "id": "34819139-6152-48f0-8830-12962d7b711a",
    "outputId": "c64dcad5-6770-4fd6-c49b-807c8e4ee858"
   },
   "outputs": [
    {
     "data": {
      "text/plain": [
       "[{'id': 1, 'name': 'Ian', 'score': 5, 'is_active': True}]"
      ]
     },
     "execution_count": 56,
     "metadata": {},
     "output_type": "execute_result"
    }
   ],
   "source": [
    "active_employees = [x for x in employees if x['is_active']]\n",
    "active_employees"
   ]
  },
  {
   "cell_type": "markdown",
   "metadata": {},
   "source": [
    "## break and continue to alter control flow\n",
    "\n",
    "break exits the loop\n",
    "\n",
    "continue skips the current iteration and proceeds with the next one"
   ]
  },
  {
   "cell_type": "code",
   "execution_count": null,
   "metadata": {},
   "outputs": [],
   "source": [
    "for ii in range(5):\n",
    "    if ii == 2:\n",
    "        break\n",
    "    print(ii)\n",
    "\n",
    "for ii in range(5):\n",
    "    if ii == 2:\n",
    "        continue\n",
    "    print(ii)\n"
   ]
  },
  {
   "cell_type": "markdown",
   "metadata": {
    "id": "63e7efb0-f1e0-4da5-82ef-2810c2183a00"
   },
   "source": [
    "# Question\n",
    "You have 10k elements in a list, a remote storage system can only accept 10 elements at a time.\n",
    "\n",
    "Write a program that feeds the data to a remote system 10 elements at a time."
   ]
  },
  {
   "cell_type": "code",
   "execution_count": null,
   "metadata": {},
   "outputs": [],
   "source": [
    "full_elements = list(range(10000))\n",
    "\n",
    "for element in full_elements:\n",
    "    "
   ]
  },
  {
   "cell_type": "markdown",
   "metadata": {},
   "source": [
    "# Practice: Improve balance calculation for bank account\n",
    "We prepared a python program for a bank to compute remaining balance in customers bank account last week.\n",
    "\n",
    "We agreed that the program was flawed.\n",
    "\n",
    "Based on our discussion today and your understanding of how remaining balance should be calculated, improve the program you had from last week"
   ]
  },
  {
   "cell_type": "markdown",
   "metadata": {},
   "source": [
    "# Practice: Preprocess data for LLM instruction tuning\n",
    "\n",
    "You are given a dataset for LLM instruction tuning. Write a Python program to clean and normalize the dataset below:\n",
    "\n",
    "```py\n",
    "dataset = [\n",
    "    {\"instruction\": \"  Translate to french  \", \"input\": \"HELLO\", \"output\": \"bonjour \"},\n",
    "    {\"instruction\": \"Summarize text\", \"input\": \"This is a short article.\", \"output\": \"short article summary\"},\n",
    "    {\"instruction\": \"generate a title\", \"input\": \"\", \"output\": \"The Power of Data\"},\n",
    "    {\"instruction\": \"  explain code  \", \"input\": \"print('hi')  \", \"output\": \" it prints hi\"},\n",
    "    {\"instruction\": \"\", \"input\": \"data science\", \"output\": \"Field of study\"}\n",
    "]\n",
    "\n",
    "```\n",
    "You tasks:\n",
    "- Remove leading/trailing spaces with `.strip()`. Please look up this method\n",
    "- Convert all text to lowercase\n",
    "- Removes invalid samples: If `instruction` is empty, then skip that example.\n",
    "- Normalizes missing inputs: If `input` is empty, replace with \"(no input)\"."
   ]
  },
  {
   "cell_type": "markdown",
   "metadata": {
    "id": "aBrZapEmE5tG"
   },
   "source": [
    "## Debugging Challenge"
   ]
  },
  {
   "cell_type": "code",
   "execution_count": null,
   "metadata": {
    "colab": {
     "base_uri": "https://localhost:8080/",
     "height": 141
    },
    "executionInfo": {
     "elapsed": 23,
     "status": "error",
     "timestamp": 1695414756440,
     "user": {
      "displayName": "Steven Gustafson",
      "userId": "09001575731804121641"
     },
     "user_tz": 420
    },
    "id": "bb165a51-5ae1-430f-bd00-244dfa3545d7",
    "outputId": "aa0bb983-c324-41f7-fd66-de7d5c4b1e94"
   },
   "outputs": [],
   "source": [
    "# Create a collection of these authors and\n",
    "# the year they kicked the bucket;\n",
    "# print the collection in the following format:\n",
    "\n",
    "# Charles Dickens died in 1870.\n",
    "\n",
    "# Charles Dickens, 1870\n",
    "# William Thackeray, 1863\n",
    "# Anthony Trollope, 1882\n",
    "# Gerard Manley Hopkins, 1889\n",
    "\n",
    "authrs = {\n",
    "    \"Charles Dickens\": \"1870\",\n",
    "    \"William Thackeray\": \"1863\",\n",
    "    \"Anthony Trollope\": \"1882\",\n",
    "    \"Gerard Manley Hopkins\": \"1889\"\n",
    "\n",
    "for author date in authors.items{}:\n",
    "    print \"%s\" % authors + \" died in \" + \"%d.\" % Date\n",
    "}"
   ]
  },
  {
   "cell_type": "code",
   "execution_count": null,
   "metadata": {},
   "outputs": [],
   "source": [
    "# fixed code goes below"
   ]
  },
  {
   "cell_type": "markdown",
   "metadata": {},
   "source": [
    "## Practice 5\n",
    "Write a program with the following functionalities:\n",
    "- Randomly generate an integer between 0 to 9\n",
    "- Prompt the user to take a guess between 0 to 9 \n",
    "- If the input is valid and correct, output a message telling the user wins\n",
    "- If the input is valide but incorrect, provide a hint to the user (whether the guess is too large or too small), and ask the user to take another guess\n"
   ]
  },
  {
   "cell_type": "code",
   "execution_count": null,
   "metadata": {
    "id": "Rnz0KyotFCj6"
   },
   "outputs": [],
   "source": [
    "import random\n",
    "generated_number = random.randint(0,9) # generate a random integer between 0 and 9\n",
    "print(generated_number)"
   ]
  },
  {
   "cell_type": "code",
   "execution_count": null,
   "metadata": {},
   "outputs": [],
   "source": [
    "# add your code below"
   ]
  },
  {
   "cell_type": "markdown",
   "metadata": {},
   "source": [
    "# Can you use the data structures and control flows that we have learned so far to solve the motivating example in a scalable manner? "
   ]
  }
 ],
 "metadata": {
  "colab": {
   "provenance": []
  },
  "kernelspec": {
   "display_name": "base",
   "language": "python",
   "name": "python3"
  },
  "language_info": {
   "codemirror_mode": {
    "name": "ipython",
    "version": 3
   },
   "file_extension": ".py",
   "mimetype": "text/x-python",
   "name": "python",
   "nbconvert_exporter": "python",
   "pygments_lexer": "ipython3",
   "version": "3.11.8"
  }
 },
 "nbformat": 4,
 "nbformat_minor": 1
}
